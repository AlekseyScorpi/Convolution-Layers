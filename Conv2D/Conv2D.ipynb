{
 "cells": [
  {
   "cell_type": "code",
   "execution_count": 1,
   "id": "b864b04a",
   "metadata": {},
   "outputs": [],
   "source": [
    "import numpy as np\n",
    "class Conv2D():\n",
    "    def __init__(self, in_channels, out_channels, kernel_size,\n",
    "                 stride=1, padding=0, output_padding=0, dilation=1, groups=1,\n",
    "                 bias=True, padding_mode='zeros', dtype=None):\n",
    "        \n",
    "        self.weights = None\n",
    "        self.bias_weights = None\n",
    "        \n",
    "        self.dtype = dtype\n",
    "        \n",
    "        padding_modes = ['zeros', 'replicate']\n",
    "        if padding_mode not in padding_modes:\n",
    "            raise ValueError(\"Invalid padding_mode\")\n",
    "        self.padding_mode = padding_mode\n",
    "        \n",
    "        if isinstance(in_channels, int) and in_channels > 0:\n",
    "            self.in_channels = in_channels\n",
    "        else:\n",
    "            raise ValueError(\"Invalid in_channels\")\n",
    "        \n",
    "        if isinstance(out_channels, int) and out_channels > 0:\n",
    "            self.out_channels = out_channels\n",
    "        else:\n",
    "            raise ValueError(\"Invalid out_channels\")\n",
    "        \n",
    "        if isinstance(groups, int) and groups > 0:\n",
    "            self.groups = groups\n",
    "        else:\n",
    "            raise ValueError(\"Invalid groups\")\n",
    "        \n",
    "        if isinstance(bias, int) or isinstance(bias, bool):\n",
    "            self.bias = bool(bias)\n",
    "        else:\n",
    "            raise ValueError(\"Invalid bias\")\n",
    "        \n",
    "        if isinstance(kernel_size, tuple):\n",
    "            try:\n",
    "                self.kernel1, self.kernel2 = kernel_size\n",
    "                if not (isinstance(self.kernel1, int) and isinstance(self.kernel2, int)):\n",
    "                    raise ValueError(\"Invalid kernel_size types\")\n",
    "            except ValueError:\n",
    "                raise ValueError(\"Invalid tuple format for kernel_size\")\n",
    "        elif isinstance(kernel_size, int) and kernel_size > 0:\n",
    "            self.kernel1 = self.kernel2 = kernel_size\n",
    "        else:\n",
    "            raise ValueError(\"Invalid kernel_size\")\n",
    "        \n",
    "        if isinstance(stride, tuple):\n",
    "            try:\n",
    "                self.stride1, self.stride2 = stride\n",
    "                if not (isinstance(self.stride1, int) and isinstance(self.stride2, int)):\n",
    "                    raise ValueError(\"Invalid stride types\")\n",
    "            except ValueError:\n",
    "                raise ValueError(\"Invalid tuple format for stride\")\n",
    "        elif isinstance(stride, int) and stride > 0:\n",
    "            self.stride1 = self.stride2 = stride\n",
    "        else:\n",
    "            raise ValueError(\"Invalid stride\")\n",
    "        \n",
    "        if isinstance(padding, str):\n",
    "            if padding in [\"valid\", \"same\"]:\n",
    "                if padding == 'same' and self.stride1 != 1:\n",
    "                    raise ValueError(\"padding 'same' is not valid for stride > 1\")\n",
    "                self.padding1 = self.padding2 = padding\n",
    "            else:\n",
    "                raise ValueError(\"Invalid padding\")\n",
    "        elif isinstance(padding, tuple):\n",
    "            try:\n",
    "                self.padding1, self.padding2 = padding\n",
    "                if not (isinstance(self.padding1, int) and isinstance(self.padding2, int)):\n",
    "                    raise ValueError(\"Invalid padding types\")\n",
    "            except ValueError:\n",
    "                raise ValueError(\"Invalid tuple format for padding\")\n",
    "        elif isinstance(padding, int) and padding > -1:\n",
    "            self.padding1 = self.padding2 = padding\n",
    "        else:\n",
    "            raise ValueError(\"Invalid padding\")\n",
    "            \n",
    "        if isinstance(dilation, tuple):\n",
    "            try:\n",
    "                self.dilation1, self.dilation2 = dilation\n",
    "                if not (isinstance(self.dilation1, int) and isinstance(self.dilation2, int)):\n",
    "                    raise ValueError(\"Invalid dilation types\")\n",
    "            except ValueError:\n",
    "                raise ValueError(\"Invalid tuple format for dilation\")\n",
    "        elif isinstance(dilation, int) and dilation > 0:\n",
    "            self.dilation1 = self.dilation2 = dilation\n",
    "        else:\n",
    "            raise ValueError(\"Invalid dilation\")\n",
    "        if not((self.in_channels % self.groups == 0) and (self.out_channels % self.groups == 0)):\n",
    "            raise ValueError(\"in_channels and out_channels must both be divisible by groups\")\n",
    "            \n",
    "    def set_weights(self, weights, bias = None):\n",
    "        if self.bias == True and (type(bias) == type(np.array([]))):\n",
    "            if len(bias.shape) == 1 and bias.shape[0] == self.out_channels:\n",
    "                self.bias_weights = bias\n",
    "            else:\n",
    "                raise TypeError(\"Invalid bias weights shape\")\n",
    "        if self.bias == True and (type(bias) != type(np.array([]))):\n",
    "            raise TypeError(\"Invalid bias weights\")\n",
    "        \n",
    "        if type(weights) != type(np.array([])):\n",
    "            raise TypeError(\"Invalid weights\")\n",
    "        if len(weights.shape) != 4:\n",
    "            raise ValueError(\"Invalid weights shape\")\n",
    "        if weights.shape[0] != self.out_channels:\n",
    "            raise ValueError(f\"Incorrect axis=0 weights dimension, given {weights.shape[0]}, expected {self.out_channels}\")\n",
    "        if weights.shape[1] != self.in_channels // self.groups:\n",
    "            raise ValueError(f\"Incorrect axis=1 weights dimension, given {weights.shape[1]}, expected {self.in_channels // self.groups}\")\n",
    "        if weights.shape[2] != self.kernel1:\n",
    "            raise ValueError(f\"Incorrect axis=2 weights dimension, given {weights.shape[2]}, expected {self.kernel1}\")\n",
    "        if weights.shape[3] != self.kernel2:\n",
    "            raise ValueError(f\"Incorrect axis=3 weights dimension, given {weights.shape[3]}, expected {self.kernel2}\")\n",
    "        self.weights = weights\n",
    "        \n",
    "    \n",
    "    def __get_conv(self, channels, weights, h_out, w_out, offset=0):\n",
    "        k1_m = self.kernel1 + (self.kernel1 - 1) * (self.dilation1 - 1)\n",
    "        k2_m = self.kernel2 + (self.kernel2 - 1) * (self.dilation2 - 1)\n",
    "        conv = []\n",
    "        for b, k in enumerate(weights):\n",
    "            out = np.zeros((h_out, w_out), dtype=self.dtype)\n",
    "            for i in range(len(channels)):\n",
    "                # padding partition\n",
    "                # реализовал два режима: zeros и replicate\n",
    "                ch = channels[i]\n",
    "                \n",
    "                for h in range(self.padding1):\n",
    "                    if (self.padding_mode == 'zeros'):\n",
    "                        ch = np.vstack((ch, np.zeros(ch.shape[1])))\n",
    "                        ch = np.vstack((np.zeros(ch.shape[1]), ch))\n",
    "                    elif (self.padding_mode == 'replicate'):\n",
    "                        ch = np.vstack((ch, np.array(ch[-1])))\n",
    "                        ch = np.vstack((np.array(ch[0]), ch))\n",
    "                   \n",
    "                for w in range(self.padding2):\n",
    "                    if (self.padding_mode == 'zeros'):\n",
    "                        ch = np.hstack((ch, np.zeros((ch.shape[0], 1))))\n",
    "                        ch = np.hstack((np.zeros((ch.shape[0], 1)), ch))\n",
    "                    elif (self.padding_mode == 'replicate'):\n",
    "                        ch = np.hstack((ch, np.expand_dims(np.array(ch[:, -1]), axis=0).T))\n",
    "                        ch = np.hstack((np.expand_dims(np.array(ch[:, 0]), axis=0).T, ch))\n",
    "                \n",
    "                if ch.shape[0] < k1_m or ch.shape[1] < k2_m:\n",
    "                    raise RuntimeError(f\"Channel shape which is {ch.shape} smaller than calculated kernel {k1_m, k2_m}\")\n",
    "                \n",
    "                # канал по размерам подогнан, пора считать\n",
    "                m_ind, n_ind = 0, 0\n",
    "                x, y = 0, 0\n",
    "                m, n = out.shape\n",
    "                while m_ind < m:\n",
    "                    x = 0\n",
    "                    n_ind = 0\n",
    "                    while n_ind < n:\n",
    "                        out[m_ind, n_ind] += np.sum(ch[y:k1_m+y:self.dilation1, x:k2_m+x:self.dilation2] * k[i])\n",
    "                        n_ind += 1\n",
    "                        x += self.stride2\n",
    "                    y += self.stride1\n",
    "                    m_ind += 1\n",
    "            if self.bias:\n",
    "                out += self.bias_weights[b+offset]\n",
    "            conv.append(out)\n",
    "        conv = np.asarray(conv)\n",
    "        return conv\n",
    "    \n",
    "    def forward(self, tensor):\n",
    "        if len(tensor.shape) == 3:\n",
    "            tensor = np.expand_dims(tensor, axis=0)\n",
    "        if len(tensor.shape) != 4:\n",
    "            raise ValueError(f\"Invalid tensor dimensions = {len(tensor.shape)}, expected 3 or 4\")\n",
    "        N, c_in, h_in, w_in = tensor.shape\n",
    "        k1_m = self.kernel1 + (self.kernel1 - 1) * (self.dilation1 - 1)\n",
    "        k2_m = self.kernel2 + (self.kernel2 - 1) * (self.dilation2 - 1)\n",
    "        if self.padding1 == 'valid':\n",
    "            self.padding1 = self.padding2 = 0\n",
    "        if self.padding1 == 'same':\n",
    "            self.padding1 = int((h_in * self.stride1 - self.stride1 - h_in + self.dilation1 * (self.kernel1 - 1) + 1) / 2)\n",
    "            self.padding2 = int((w_in * self.stride2 - self.stride2 - w_in + self.dilation2 * (self.kernel2 - 1) + 1) / 2)\n",
    "                \n",
    "        c_out = self.out_channels\n",
    "        h_out = int((h_in + 2 * self.padding1 - self.dilation1 * (self.kernel1 - 1) - 1) / self.stride1) + 1\n",
    "        w_out = int((w_in + 2 * self.padding2 - self.dilation2 * (self.kernel2 - 1) - 1) / self.stride2) + 1\n",
    "        try:\n",
    "            out_tensor = np.zeros((N, c_out, h_out, w_out), dtype=self.dtype)\n",
    "        except:\n",
    "            raise TypeError(\"Invalid dtype\")\n",
    "        \n",
    "        for n in range(N):\n",
    "            cur_out_channel = 0\n",
    "            step_for_kernels = self.out_channels // self.groups\n",
    "            step_for_channels = c_in // self.groups\n",
    "            ker_pos = 0\n",
    "            ch_pos = 0\n",
    "            for i in range(self.groups):\n",
    "                current_channels = tensor[n, ch_pos:ch_pos+step_for_channels]\n",
    "                current_weights = self.weights[ker_pos:ker_pos+step_for_kernels]\n",
    "                conv = self.__get_conv(current_channels, current_weights, h_out, w_out, offset=i*step_for_kernels)\n",
    "                ker_pos += step_for_kernels\n",
    "                ch_pos += step_for_channels\n",
    "                for c in conv:\n",
    "                    out_tensor[n, cur_out_channel] = c\n",
    "                    cur_out_channel += 1\n",
    "        return out_tensor"
   ]
  },
  {
   "cell_type": "code",
   "execution_count": 2,
   "id": "b4a9ca83",
   "metadata": {},
   "outputs": [],
   "source": [
    "import torch\n",
    "from tqdm import tqdm"
   ]
  },
  {
   "cell_type": "code",
   "execution_count": 3,
   "id": "538c63be",
   "metadata": {},
   "outputs": [],
   "source": [
    "rng = np.random.default_rng()"
   ]
  },
  {
   "cell_type": "code",
   "execution_count": 4,
   "id": "f4a5a8b6",
   "metadata": {},
   "outputs": [],
   "source": [
    "def test():\n",
    "    for i in (pbar := tqdm(range(10))):\n",
    "        t = rng.integers(low=0, high=255, size=(5, in_channels, 28, 28)) / 255.0\n",
    "        tt = torch.Tensor(t)\n",
    "        t_conv = torch.nn.Conv2d(in_channels, out_channels, kernel_size,\n",
    "                                 bias=bias, groups=groups, stride=stride,\n",
    "                                 padding=padding, dilation=dilation, padding_mode=padding_mode)\n",
    "\n",
    "        # берем случайные веса из слоя torch и записываем их в наш кастомный класс\n",
    "        weights = t_conv.weight.detach().numpy()\n",
    "        if bias:\n",
    "            bias_w = t_conv.bias.detach().numpy()\n",
    "        layer = Conv2D(in_channels, out_channels, kernel_size=kernel_size,\n",
    "                       groups=groups, bias=bias, stride=stride, padding=padding,\n",
    "                       dilation=dilation, padding_mode=padding_mode)\n",
    "        if bias:\n",
    "            layer.set_weights(weights, bias_w)\n",
    "        else:\n",
    "            layer.set_weights(weights)\n",
    "        torch_result = t_conv(tt).detach().numpy()\n",
    "        layer_result = layer.forward(t)\n",
    "        assert np.allclose(torch_result, layer_result, atol=0.0001), \"Error\"\n",
    "    print('pass')"
   ]
  },
  {
   "cell_type": "code",
   "execution_count": 5,
   "id": "c1002804",
   "metadata": {},
   "outputs": [],
   "source": [
    "# параметры тестирования для первой группы\n",
    "kernel_size = (3, 3)\n",
    "padding = 'same'\n",
    "padding_mode = 'zeros'\n",
    "dilation = 1\n",
    "stride = 1\n",
    "in_channels = 8\n",
    "out_channels = 20\n",
    "bias = True\n",
    "groups = 2"
   ]
  },
  {
   "cell_type": "code",
   "execution_count": 6,
   "id": "e5fac822",
   "metadata": {},
   "outputs": [
    {
     "name": "stderr",
     "output_type": "stream",
     "text": [
      "100%|██████████| 10/10 [00:22<00:00,  2.28s/it]"
     ]
    },
    {
     "name": "stdout",
     "output_type": "stream",
     "text": [
      "pass\n"
     ]
    },
    {
     "name": "stderr",
     "output_type": "stream",
     "text": [
      "\n"
     ]
    }
   ],
   "source": [
    "test()"
   ]
  },
  {
   "cell_type": "code",
   "execution_count": 7,
   "id": "c9559cf6",
   "metadata": {},
   "outputs": [],
   "source": [
    "# параметры тестирования для второй группы\n",
    "kernel_size = (2, 4)\n",
    "padding = 'same'\n",
    "padding_mode = 'replicate'\n",
    "dilation = 2\n",
    "stride = 1\n",
    "in_channels = 4\n",
    "out_channels = 16\n",
    "bias = True\n",
    "groups = 1"
   ]
  },
  {
   "cell_type": "code",
   "execution_count": 8,
   "id": "07d3ddd8",
   "metadata": {},
   "outputs": [
    {
     "name": "stderr",
     "output_type": "stream",
     "text": [
      "100%|██████████| 10/10 [00:18<00:00,  1.84s/it]"
     ]
    },
    {
     "name": "stdout",
     "output_type": "stream",
     "text": [
      "pass\n"
     ]
    },
    {
     "name": "stderr",
     "output_type": "stream",
     "text": [
      "\n"
     ]
    }
   ],
   "source": [
    "test()"
   ]
  },
  {
   "cell_type": "code",
   "execution_count": 9,
   "id": "285903cd",
   "metadata": {},
   "outputs": [],
   "source": [
    "# параметры тестирования для третьей группы\n",
    "kernel_size = (2, 4)\n",
    "padding = 'valid'\n",
    "padding_mode = 'replicate'\n",
    "dilation = 1\n",
    "stride = (2, 3)\n",
    "in_channels = 8\n",
    "out_channels = 4\n",
    "bias = True\n",
    "groups = 2"
   ]
  },
  {
   "cell_type": "code",
   "execution_count": 10,
   "id": "29027ab3",
   "metadata": {},
   "outputs": [
    {
     "name": "stderr",
     "output_type": "stream",
     "text": [
      "100%|██████████| 10/10 [00:00<00:00, 12.67it/s]"
     ]
    },
    {
     "name": "stdout",
     "output_type": "stream",
     "text": [
      "pass\n"
     ]
    },
    {
     "name": "stderr",
     "output_type": "stream",
     "text": [
      "\n"
     ]
    }
   ],
   "source": [
    "test()"
   ]
  },
  {
   "cell_type": "code",
   "execution_count": 11,
   "id": "1567c38f",
   "metadata": {},
   "outputs": [],
   "source": [
    "# параметры тестирования для четвертой группы\n",
    "kernel_size = (3, 2)\n",
    "padding = 1\n",
    "padding_mode = 'zeros'\n",
    "dilation = 2\n",
    "stride = (4, 3)\n",
    "in_channels = 5\n",
    "out_channels = 32\n",
    "bias = True\n",
    "groups = 1"
   ]
  },
  {
   "cell_type": "code",
   "execution_count": 12,
   "id": "b30fa5df",
   "metadata": {},
   "outputs": [
    {
     "name": "stderr",
     "output_type": "stream",
     "text": [
      "100%|██████████| 10/10 [00:04<00:00,  2.32it/s]"
     ]
    },
    {
     "name": "stdout",
     "output_type": "stream",
     "text": [
      "pass\n"
     ]
    },
    {
     "name": "stderr",
     "output_type": "stream",
     "text": [
      "\n"
     ]
    }
   ],
   "source": [
    "test()"
   ]
  },
  {
   "cell_type": "code",
   "execution_count": null,
   "id": "8e1cb460",
   "metadata": {},
   "outputs": [],
   "source": []
  }
 ],
 "metadata": {
  "kernelspec": {
   "display_name": "Python 3 (ipykernel)",
   "language": "python",
   "name": "python3"
  },
  "language_info": {
   "codemirror_mode": {
    "name": "ipython",
    "version": 3
   },
   "file_extension": ".py",
   "mimetype": "text/x-python",
   "name": "python",
   "nbconvert_exporter": "python",
   "pygments_lexer": "ipython3",
   "version": "3.10.13"
  }
 },
 "nbformat": 4,
 "nbformat_minor": 5
}
